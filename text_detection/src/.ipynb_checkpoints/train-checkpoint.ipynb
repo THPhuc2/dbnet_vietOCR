{
 "cells": [
  {
   "cell_type": "code",
   "execution_count": 1,
   "id": "5a5e3d40-d184-4d32-95d0-381c2a0cc558",
   "metadata": {
    "tags": []
   },
   "outputs": [
    {
     "name": "stdout",
     "output_type": "stream",
     "text": [
      "/data/minhdq1/learning_project/ocr_learning/text_detection/src/DB_text_minimal/src\n"
     ]
    }
   ],
   "source": [
    "%cd DB_text_minimal/src/"
   ]
  },
  {
   "cell_type": "code",
   "execution_count": 2,
   "id": "aa0874c8-1f22-4a89-9c41-693b8474ec6a",
   "metadata": {
    "tags": []
   },
   "outputs": [
    {
     "name": "stdout",
     "output_type": "stream",
     "text": [
      "[2024-06-23 23:34:00,070][../data/dbnet_text_data/train/train.log][INFO] - ../data/dbnet_text_data/train/logs/1719160440\n",
      "2024-06-23 23:34:00.197683: I tensorflow/stream_executor/platform/default/dso_loader.cc:49] Successfully opened dynamic library libcudart.so.11.0\n",
      "[2024-06-23 23:34:00,863][numexpr.utils][INFO] - Note: NumExpr detected 48 cores but \"NUMEXPR_MAX_THREADS\" not set, so enforcing safe limit of 8.\n",
      "[2024-06-23 23:34:00,863][numexpr.utils][INFO] - NumExpr defaulting to 8 threads.\n",
      "[2024-06-23 23:34:01,457][../data/dbnet_text_data/train/train.log][INFO] - cuda\n",
      "load from imagenet\n",
      "[2024-06-23 23:34:03,385][../data/dbnet_text_data/train/train.log][INFO] - Learning rate scheduler: poly\n",
      "[2024-06-23 23:34:03,386][../data/dbnet_text_data/train/train.log][INFO] - Dataset name: mix\n",
      "[2024-06-23 23:34:03,386][../data/dbnet_text_data/train/train.log][INFO] - Ignore tags: ['***']\n",
      "True True\n",
      "5347\n",
      "number sample:  2673\n",
      "number sample:  2673\n",
      "[2024-06-23 23:34:05,323][../data/dbnet_text_data/train/train.log][INFO] - Start training!\n",
      "Epoch 1/1\n",
      "number sample:  2673\n",
      "number sample:  2673\n",
      "number sample:  2673\n",
      "  7%|███                                       | 49/669 [00:26<05:08,  2.01it/s][2024-06-23 23:34:32,921][../data/dbnet_text_data/train/train.log][INFO] - [1-50] - lr: 0.020900009155628597 - total_loss: 1.2827537059783936 - loss: 0.9339756965637207 - acc: 0.7747000157735349 - iou: 0.40241089049206114\n",
      " 15%|██████▏                                   | 99/669 [00:53<04:45,  2.00it/s][2024-06-23 23:34:59,756][../data/dbnet_text_data/train/train.log][INFO] - [1-100] - lr: 0.03935878464795264 - total_loss: 1.1597462892532349 - loss: 0.861328661441803 - acc: 0.8412908722481702 - iou: 0.4948706069502312\n",
      " 22%|█████████▏                               | 149/669 [01:21<04:30,  1.92it/s][2024-06-23 23:35:27,314][../data/dbnet_text_data/train/train.log][INFO] - [1-150] - lr: 0.05686403139565411 - total_loss: 1.1942875385284424 - loss: 0.8558977246284485 - acc: 0.8647712764156226 - iou: 0.5390445616706168\n",
      " 30%|████████████▏                            | 199/669 [01:48<04:14,  1.84it/s][2024-06-23 23:35:54,556][../data/dbnet_text_data/train/train.log][INFO] - [1-200] - lr: 0.07377985087770964 - total_loss: 1.1974023580551147 - loss: 0.8706355094909668 - acc: 0.8779174722046893 - iou: 0.5676620711526841\n",
      " 37%|███████████████▎                         | 249/669 [02:15<03:43,  1.88it/s][2024-06-23 23:36:22,000][../data/dbnet_text_data/train/train.log][INFO] - [1-250] - lr: 0.09027124178501493 - total_loss: 1.0753281116485596 - loss: 0.7809103727340698 - acc: 0.8853995162935718 - iou: 0.5884102595368025\n",
      " 45%|██████████████████▎                      | 299/669 [02:44<03:24,  1.81it/s][2024-06-23 23:36:50,296][../data/dbnet_text_data/train/train.log][INFO] - [1-300] - lr: 0.10643245353119875 - total_loss: 1.1361815929412842 - loss: 0.8206976056098938 - acc: 0.891153836854808 - iou: 0.6054355917657457\n",
      " 52%|█████████████████████▍                   | 349/669 [03:12<02:59,  1.78it/s][2024-06-23 23:37:18,339][../data/dbnet_text_data/train/train.log][INFO] - [1-350] - lr: 0.12232434208243959 - total_loss: 1.1946985721588135 - loss: 0.8703775405883789 - acc: 0.8944695277739914 - iou: 0.6186741117569823\n",
      " 60%|████████████████████████▍                | 399/669 [03:40<02:16,  1.97it/s][2024-06-23 23:37:46,232][../data/dbnet_text_data/train/train.log][INFO] - [1-400] - lr: 0.13798936320202612 - total_loss: 1.2660101652145386 - loss: 0.9241443276405334 - acc: 0.8972624739219692 - iou: 0.6296203269112397\n",
      " 67%|███████████████████████████▌             | 449/669 [04:07<02:11,  1.67it/s][2024-06-23 23:38:13,683][../data/dbnet_text_data/train/train.log][INFO] - [1-450] - lr: 0.15345876940274403 - total_loss: 1.0315537452697754 - loss: 0.7657528519630432 - acc: 0.8993683215616546 - iou: 0.6388459984269493\n",
      " 75%|██████████████████████████████▌          | 499/669 [04:35<01:29,  1.89it/s][2024-06-23 23:38:41,654][../data/dbnet_text_data/train/train.log][INFO] - [1-500] - lr: 0.16875649449625788 - total_loss: 1.1203815937042236 - loss: 0.8453429937362671 - acc: 0.9009144426639599 - iou: 0.6466438269686212\n",
      " 82%|█████████████████████████████████▋       | 549/669 [05:02<01:03,  1.90it/s][2024-06-23 23:39:08,987][../data/dbnet_text_data/train/train.log][INFO] - [1-550] - lr: 0.1839014334118857 - total_loss: 1.0808930397033691 - loss: 0.7797385454177856 - acc: 0.9025789874234293 - iou: 0.6537499666606594\n",
      " 90%|████████████████████████████████████▋    | 599/669 [05:29<00:39,  1.76it/s][2024-06-23 23:39:36,065][../data/dbnet_text_data/train/train.log][INFO] - [1-600] - lr: 0.19890886739504368 - total_loss: 1.1243340969085693 - loss: 0.8399884700775146 - acc: 0.9035099528807942 - iou: 0.6592538645055348\n",
      " 97%|███████████████████████████████████████▊ | 649/669 [05:57<00:10,  1.91it/s][2024-06-23 23:40:03,303][../data/dbnet_text_data/train/train.log][INFO] - [1-650] - lr: 0.21379140010691913 - total_loss: 1.0327143669128418 - loss: 0.7669881582260132 - acc: 0.9048525873091671 - iou: 0.6647469394841597\n",
      "100%|████████████████████████████████████████▊| 666/669 [06:06<00:01,  1.72it/s]number sample:  2673\n",
      "100%|█████████████████████████████████████████| 669/669 [06:07<00:00,  1.82it/s]\n",
      "number sample:  2673\n",
      "[2024-06-23 23:40:13,631][../data/dbnet_text_data/train/train.log][INFO] - Train loss: 1.2413480281829834\n",
      "number sample:  251\n",
      "number sample:  251\n",
      "  0%|                                                   | 0/251 [00:00<?, ?it/s]number sample:  251\n",
      "100%|█████████████████████████████████████████| 251/251 [02:23<00:00,  1.75it/s]\n",
      "Error executing job with overrides: []\n",
      "Traceback (most recent call last):\n",
      "  File \"train.py\", line 322, in run\n",
      "    main(cfg)\n",
      "  File \"train.py\", line 288, in main\n",
      "    torch.save(\n",
      "  File \"/data/minhdq1/anaconda3/envs/review_image/lib/python3.8/site-packages/torch/serialization.py\", line 376, in save\n",
      "    with _open_file_like(f, 'wb') as opened_file:\n",
      "  File \"/data/minhdq1/anaconda3/envs/review_image/lib/python3.8/site-packages/torch/serialization.py\", line 230, in _open_file_like\n",
      "    return _open_file(name_or_buffer, mode)\n",
      "  File \"/data/minhdq1/anaconda3/envs/review_image/lib/python3.8/site-packages/torch/serialization.py\", line 211, in __init__\n",
      "    super(_open_file, self).__init__(open(name, mode))\n",
      "FileNotFoundError: [Errno 2] No such file or directory: '../data/dbnet_text_data/train/models/best_f1_dbnet_f1:0.7900415967325172_pre:0.8947290930506479_recall:0.7072858472998138.pth'\n",
      "\n",
      "Set the environment variable HYDRA_FULL_ERROR=1 for a complete stack trace.\n"
     ]
    }
   ],
   "source": [
    "!CUDA_VISIBLE_DEVICES=0 python train.py"
   ]
  },
  {
   "cell_type": "code",
   "execution_count": 3,
   "id": "44af05bc-c94a-47b2-a4c8-85efc3dbe61f",
   "metadata": {
    "tags": []
   },
   "outputs": [],
   "source": [
    "import os"
   ]
  },
  {
   "cell_type": "code",
   "execution_count": 8,
   "id": "e70123dd-5ded-4df4-921e-de58057da59e",
   "metadata": {
    "tags": []
   },
   "outputs": [
    {
     "data": {
      "text/plain": [
       "True"
      ]
     },
     "execution_count": 8,
     "metadata": {},
     "output_type": "execute_result"
    }
   ],
   "source": [
    "os.path.exists(\"../../data/dbnet_text_data/val\")"
   ]
  },
  {
   "cell_type": "code",
   "execution_count": null,
   "id": "df7f9e10-c484-48cb-991f-74074d19aa50",
   "metadata": {},
   "outputs": [],
   "source": []
  }
 ],
 "metadata": {
  "kernelspec": {
   "display_name": "Python 3 (ipykernel)",
   "language": "python",
   "name": "python3"
  },
  "language_info": {
   "codemirror_mode": {
    "name": "ipython",
    "version": 3
   },
   "file_extension": ".py",
   "mimetype": "text/x-python",
   "name": "python",
   "nbconvert_exporter": "python",
   "pygments_lexer": "ipython3",
   "version": "3.8.5"
  }
 },
 "nbformat": 4,
 "nbformat_minor": 5
}
